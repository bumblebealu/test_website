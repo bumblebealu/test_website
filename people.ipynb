{
 "cells": [
  {
   "cell_type": "code",
   "execution_count": 195,
   "metadata": {},
   "outputs": [],
   "source": [
    "from jinja2 import Environment, FileSystemLoader"
   ]
  },
  {
   "cell_type": "code",
   "execution_count": 196,
   "metadata": {},
   "outputs": [],
   "source": [
    "import pandas as pd"
   ]
  },
  {
   "cell_type": "code",
   "execution_count": 197,
   "metadata": {},
   "outputs": [],
   "source": [
    "info = pd.read_json(\"pa.json\")"
   ]
  },
  {
   "cell_type": "code",
   "execution_count": null,
   "metadata": {},
   "outputs": [],
   "source": []
  },
  {
   "cell_type": "code",
   "execution_count": 198,
   "metadata": {},
   "outputs": [],
   "source": [
    "environment = Environment(loader=FileSystemLoader(\"templates/\"))"
   ]
  },
  {
   "cell_type": "code",
   "execution_count": 199,
   "metadata": {},
   "outputs": [
    {
     "data": {
      "text/html": [
       "<div>\n",
       "<style scoped>\n",
       "    .dataframe tbody tr th:only-of-type {\n",
       "        vertical-align: middle;\n",
       "    }\n",
       "\n",
       "    .dataframe tbody tr th {\n",
       "        vertical-align: top;\n",
       "    }\n",
       "\n",
       "    .dataframe thead th {\n",
       "        text-align: right;\n",
       "    }\n",
       "</style>\n",
       "<table border=\"1\" class=\"dataframe\">\n",
       "  <thead>\n",
       "    <tr style=\"text-align: right;\">\n",
       "      <th></th>\n",
       "      <th>name</th>\n",
       "      <th>project_title</th>\n",
       "      <th>org</th>\n",
       "      <th>role</th>\n",
       "      <th>tags</th>\n",
       "      <th>university</th>\n",
       "      <th>start_year</th>\n",
       "      <th>email</th>\n",
       "      <th>mygroup</th>\n",
       "      <th>end_year</th>\n",
       "    </tr>\n",
       "  </thead>\n",
       "  <tbody>\n",
       "    <tr>\n",
       "      <th>0</th>\n",
       "      <td>Sofia Biriouk</td>\n",
       "      <td>Hunting for the siblings of Cas A</td>\n",
       "      <td>tardis</td>\n",
       "      <td>Professorial Assistant</td>\n",
       "      <td>[pa, fs]</td>\n",
       "      <td>Michigan State University</td>\n",
       "      <td>2021</td>\n",
       "      <td>biriouks@msu.edu</td>\n",
       "      <td>True</td>\n",
       "      <td>NaN</td>\n",
       "    </tr>\n",
       "    <tr>\n",
       "      <th>1</th>\n",
       "      <td>Bea Lu</td>\n",
       "      <td>Topic modelling the astronomy literature</td>\n",
       "      <td>deepthought</td>\n",
       "      <td>Research Assistant</td>\n",
       "      <td>[pa, fs]</td>\n",
       "      <td>Michigan State University</td>\n",
       "      <td>2021</td>\n",
       "      <td>lubangji@msu.edu</td>\n",
       "      <td>True</td>\n",
       "      <td>NaN</td>\n",
       "    </tr>\n",
       "    <tr>\n",
       "      <th>2</th>\n",
       "      <td>Kevin Cawley</td>\n",
       "      <td>Accelerating radiative transfer with GPU</td>\n",
       "      <td>tardis</td>\n",
       "      <td>Research Assistant</td>\n",
       "      <td>[pa, fs]</td>\n",
       "      <td>Michigan State University</td>\n",
       "      <td>2020</td>\n",
       "      <td>cawleyke@msu.edu</td>\n",
       "      <td>True</td>\n",
       "      <td>2022.0</td>\n",
       "    </tr>\n",
       "    <tr>\n",
       "      <th>3</th>\n",
       "      <td>Isaac Smith</td>\n",
       "      <td>TARDIS as a teaching aid</td>\n",
       "      <td>tardis</td>\n",
       "      <td>Research Assistant</td>\n",
       "      <td>[pa, fs]</td>\n",
       "      <td>Michigan State University</td>\n",
       "      <td>2020</td>\n",
       "      <td>smithis7@msu.edu</td>\n",
       "      <td>True</td>\n",
       "      <td>NaN</td>\n",
       "    </tr>\n",
       "    <tr>\n",
       "      <th>4</th>\n",
       "      <td>Hayden Monk</td>\n",
       "      <td>An index of all Galactic Supernova remnants</td>\n",
       "      <td>Big Data Astronomy</td>\n",
       "      <td>Professorial Assistant</td>\n",
       "      <td>[pa, fs]</td>\n",
       "      <td>Michigan State University</td>\n",
       "      <td>2022</td>\n",
       "      <td>monkhayd@msu.edu</td>\n",
       "      <td>True</td>\n",
       "      <td>NaN</td>\n",
       "    </tr>\n",
       "    <tr>\n",
       "      <th>5</th>\n",
       "      <td>Owen Miller</td>\n",
       "      <td>Exploring the ADS dataset</td>\n",
       "      <td>deepthought</td>\n",
       "      <td>Professorial Assistant</td>\n",
       "      <td>[pa, fs]</td>\n",
       "      <td>Michigan State University</td>\n",
       "      <td>2022</td>\n",
       "      <td>mill3571@msu.edu</td>\n",
       "      <td>True</td>\n",
       "      <td>NaN</td>\n",
       "    </tr>\n",
       "  </tbody>\n",
       "</table>\n",
       "</div>"
      ],
      "text/plain": [
       "            name                                project_title  \\\n",
       "0  Sofia Biriouk            Hunting for the siblings of Cas A   \n",
       "1         Bea Lu     Topic modelling the astronomy literature   \n",
       "2   Kevin Cawley     Accelerating radiative transfer with GPU   \n",
       "3    Isaac Smith                     TARDIS as a teaching aid   \n",
       "4    Hayden Monk  An index of all Galactic Supernova remnants   \n",
       "5    Owen Miller                    Exploring the ADS dataset   \n",
       "\n",
       "                  org                    role      tags  \\\n",
       "0              tardis  Professorial Assistant  [pa, fs]   \n",
       "1         deepthought      Research Assistant  [pa, fs]   \n",
       "2              tardis      Research Assistant  [pa, fs]   \n",
       "3              tardis      Research Assistant  [pa, fs]   \n",
       "4  Big Data Astronomy  Professorial Assistant  [pa, fs]   \n",
       "5         deepthought  Professorial Assistant  [pa, fs]   \n",
       "\n",
       "                  university  start_year             email  mygroup  end_year  \n",
       "0  Michigan State University        2021  biriouks@msu.edu     True       NaN  \n",
       "1  Michigan State University        2021  lubangji@msu.edu     True       NaN  \n",
       "2  Michigan State University        2020  cawleyke@msu.edu     True    2022.0  \n",
       "3  Michigan State University        2020  smithis7@msu.edu     True       NaN  \n",
       "4  Michigan State University        2022  monkhayd@msu.edu     True       NaN  \n",
       "5  Michigan State University        2022  mill3571@msu.edu     True       NaN  "
      ]
     },
     "execution_count": 199,
     "metadata": {},
     "output_type": "execute_result"
    }
   ],
   "source": [
    "info"
   ]
  },
  {
   "cell_type": "code",
   "execution_count": 200,
   "metadata": {},
   "outputs": [
    {
     "name": "stdout",
     "output_type": "stream",
     "text": [
      "Sofia Biriouk\n",
      "Bea Lu\n",
      "Kevin Cawley\n",
      "Isaac Smith\n",
      "Hayden Monk\n",
      "Owen Miller\n"
     ]
    }
   ],
   "source": [
    "for index, row in info.iterrows():\n",
    "    print(row[\"name\"])"
   ]
  },
  {
   "cell_type": "code",
   "execution_count": 201,
   "metadata": {},
   "outputs": [],
   "source": [
    "template = environment.get_template(\"people.html.j2\")"
   ]
  },
  {
   "cell_type": "code",
   "execution_count": 202,
   "metadata": {},
   "outputs": [],
   "source": [
    "names = [\"John Doe\", \"John\",\"Doe\"]\n",
    "page_titles = [\"Home\", \"People\", \"Research\", \"Contact\"]\n",
    "position = \"Professorial Assistant\"\n",
    "school = \"Michigan State University\"\n",
    "website_title = \"Kerzendorf Group Website\""
   ]
  },
  {
   "cell_type": "code",
   "execution_count": 203,
   "metadata": {},
   "outputs": [],
   "source": [
    "content = template.render(\n",
    "    info=info\n",
    "\n",
    "    )"
   ]
  },
  {
   "cell_type": "code",
   "execution_count": 204,
   "metadata": {},
   "outputs": [],
   "source": [
    "with open(\"test_people.html\", mode=\"w\", encoding=\"utf-8\") as homepage:\n",
    "        homepage.write(content)"
   ]
  },
  {
   "cell_type": "code",
   "execution_count": null,
   "metadata": {},
   "outputs": [],
   "source": []
  },
  {
   "cell_type": "code",
   "execution_count": null,
   "metadata": {},
   "outputs": [],
   "source": []
  }
 ],
 "metadata": {
  "kernelspec": {
   "display_name": "Python 3.8.2 64-bit",
   "language": "python",
   "name": "python3"
  },
  "language_info": {
   "codemirror_mode": {
    "name": "ipython",
    "version": 3
   },
   "file_extension": ".py",
   "mimetype": "text/x-python",
   "name": "python",
   "nbconvert_exporter": "python",
   "pygments_lexer": "ipython3",
   "version": "3.7.9"
  },
  "orig_nbformat": 4,
  "vscode": {
   "interpreter": {
    "hash": "31f2aee4e71d21fbe5cf8b01ff0e069b9275f58929596ceb00d14d90e3e16cd6"
   }
  }
 },
 "nbformat": 4,
 "nbformat_minor": 2
}
